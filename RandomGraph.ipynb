{
 "cells": [
  {
   "cell_type": "markdown",
   "id": "4ed9f8a2",
   "metadata": {},
   "source": [
    "# Random Graph Generator"
   ]
  },
  {
   "cell_type": "code",
   "execution_count": 10,
   "id": "df7d7bdb",
   "metadata": {},
   "outputs": [],
   "source": [
    "import networkx as nx\n",
    "import math\n",
    "import numpy as np\n",
    "import pandas as pd"
   ]
  },
  {
   "cell_type": "code",
   "execution_count": 15,
   "id": "bf969c19",
   "metadata": {},
   "outputs": [],
   "source": [
    "def clustering_coeff(G):\n",
    "    n=G.number_of_nodes()\n",
    "    binomial_coefficient = 6*(math.comb(n, 3))\n",
    "    numt=0\n",
    "    for node in G.nodes():\n",
    "        N=list(G.neighbors(node))\n",
    "        for v in N:\n",
    "            for z in N:\n",
    "                if v!=z and G.has_edge(v,z):\n",
    "                    numt+=1\n",
    "    CC=numt/binomial_coefficient\n",
    "    return CC\n",
    "\n",
    "\n",
    "def rnd_graphs_CC(G,num_of_iterations):\n",
    "    graph_list=[]\n",
    "    CC_rnd_list=[]\n",
    "    transitivity_rng=[]\n",
    "    n=G.number_of_nodes()\n",
    "    e=G.number_of_edges()\n",
    "    for i in range(num_of_iterations):\n",
    "        G=nx.gnm_random_graph(n,e)\n",
    "        graph_list.append(G)\n",
    "        CC_rnd_list.append(clustering_coeff(G))\n",
    "        transitivity_rng.append(nx.transitivity(G))\n",
    "    return graph_list, CC_rnd_list, transitivity_rng\n",
    "\n",
    "\n",
    "def read_graph(path):\n",
    "    df = pd.read_csv(path)\n",
    "    G = nx.from_pandas_edgelist(df, source='id_1', target='id_2', create_using=nx.Graph())\n",
    "    return G\n",
    "\n",
    "graph_paths = {'facebook': 'facebook_large/complete/musae_facebook_edges.csv', 'git': 'git_web_ml/musae_git_edges.csv', 'twitch': 'twitch/ENGB/musae_ENGB_edges.csv'}\n",
    "\n",
    "Facebook = read_graph(graph_paths['facebook'])\n",
    "Git = read_graph(graph_paths['git'])\n",
    "Twitch = read_graph(graph_paths['twitch'])"
   ]
  },
  {
   "cell_type": "code",
   "execution_count": 16,
   "id": "3d6f129e",
   "metadata": {},
   "outputs": [
    {
     "name": "stdout",
     "output_type": "stream",
     "text": [
      "Average Global Clustering Coefficient for the random graphs:  3.067806844696402e-10\n",
      "Standard Deviation of the Global Clustering Coefficient for the random graphs:  0.0\n",
      "Average Transitivity for the random graphs:  0.000668792195886928\n",
      "Standard Deviationof the Transitivity for the random graphs:  0.0\n"
     ]
    }
   ],
   "source": [
    "x=1\n",
    "facebook_graphs, CC_facebook_list, transitivity_facebook_list=rnd_graphs_CC(Facebook,x)\n",
    "\n",
    "print(\"Average Global Clustering Coefficient for the random graphs: \", sum(CC_facebook_list))\n",
    "print(\"Standard Deviation of the Global Clustering Coefficient for the random graphs: \", np.std(CC_facebook_list))\n",
    "print(\"Average Transitivity for the random graphs: \", sum(transitivity_facebook_list))\n",
    "print(\"Standard Deviationof the Transitivity for the random graphs: \", np.std(transitivity_facebook_list))"
   ]
  },
  {
   "cell_type": "code",
   "execution_count": 17,
   "id": "c9d02356",
   "metadata": {},
   "outputs": [
    {
     "name": "stdout",
     "output_type": "stream",
     "text": [
      "Average Global Clustering Coefficient for the random graphs:  7.12227724843741e-11\n",
      "Standard Deviation of the Global Clustering Coefficient for the random graphs:  0.0\n",
      "Average Transitivity for the random graphs:  0.0004308014939870678\n",
      "Standard Deviationof the Transitivity for the random graphs:  0.0\n"
     ]
    }
   ],
   "source": [
    "x=1\n",
    "Git_graphs, CC_Git_list, transitivity_Git_list=rnd_graphs_CC(Git,x)\n",
    "print(\"Average Global Clustering Coefficient for the random graphs: \", sum(CC_Git_list))\n",
    "print(\"Standard Deviation of the Global Clustering Coefficient for the random graphs: \", np.std(CC_Git_list))\n",
    "print(\"Average Transitivity for the random graphs: \", sum(transitivity_Git_list))\n",
    "print(\"Standard Deviationof the Transitivity for the random graphs: \", np.std(transitivity_Git_list))"
   ]
  },
  {
   "cell_type": "code",
   "execution_count": null,
   "id": "efeeadb9",
   "metadata": {},
   "outputs": [],
   "source": [
    "x=1\n",
    "Twitch_graphs, CC_Twitch_list, transitivity_Twitch_list=rnd_graphs_CC(Twitch,x)\n",
    "print(\"Average Global Clustering Coefficient for the random graphs: \", sum(CC_Twitch_list))\n",
    "print(\"Standard Deviation of the Global Clustering Coefficient for the random graphs: \", np.std(CC_Twitch_list))\n",
    "print(\"Average Transitivity for the random graphs: \", sum(transitivity_Twitch_list))\n",
    "print(\"Standard Deviationof the Transitivity for the random graphs: \", np.std(transitivity_Twitch_list))"
   ]
  },
  {
   "cell_type": "code",
   "execution_count": null,
   "id": "1171aeaa",
   "metadata": {},
   "outputs": [],
   "source": []
  },
  {
   "cell_type": "code",
   "execution_count": null,
   "id": "745da08c",
   "metadata": {},
   "outputs": [],
   "source": []
  }
 ],
 "metadata": {
  "kernelspec": {
   "display_name": "Python 3 (ipykernel)",
   "language": "python",
   "name": "python3"
  },
  "language_info": {
   "codemirror_mode": {
    "name": "ipython",
    "version": 3
   },
   "file_extension": ".py",
   "mimetype": "text/x-python",
   "name": "python",
   "nbconvert_exporter": "python",
   "pygments_lexer": "ipython3",
   "version": "3.9.12"
  }
 },
 "nbformat": 4,
 "nbformat_minor": 5
}
