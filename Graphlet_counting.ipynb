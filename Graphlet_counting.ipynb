{
 "cells": [
  {
   "cell_type": "markdown",
   "id": "abc90f5c",
   "metadata": {},
   "source": [
    "# Graphlet counting Algorithm"
   ]
  },
  {
   "cell_type": "markdown",
   "id": "3bc63997",
   "metadata": {},
   "source": [
    "With this algorithm we are able to count the occurrences of a graphlet inside the Social Network Graphs.\n",
    "It outputs the counting and the time of the computation."
   ]
  },
  {
   "cell_type": "code",
   "execution_count": 1,
   "id": "ccbcd22d",
   "metadata": {},
   "outputs": [
    {
     "ename": "ModuleNotFoundError",
     "evalue": "No module named 'grandiso'",
     "output_type": "error",
     "traceback": [
      "\u001b[0;31m---------------------------------------------------------------------------\u001b[0m",
      "\u001b[0;31mModuleNotFoundError\u001b[0m                       Traceback (most recent call last)",
      "Input \u001b[0;32mIn [1]\u001b[0m, in \u001b[0;36m<cell line: 3>\u001b[0;34m()\u001b[0m\n\u001b[1;32m      1\u001b[0m \u001b[38;5;28;01mimport\u001b[39;00m \u001b[38;5;21;01mnetworkx\u001b[39;00m \u001b[38;5;28;01mas\u001b[39;00m \u001b[38;5;21;01mnx\u001b[39;00m\n\u001b[1;32m      2\u001b[0m \u001b[38;5;28;01mimport\u001b[39;00m \u001b[38;5;21;01mpandas\u001b[39;00m \u001b[38;5;28;01mas\u001b[39;00m \u001b[38;5;21;01mpd\u001b[39;00m\n\u001b[0;32m----> 3\u001b[0m \u001b[38;5;28;01mfrom\u001b[39;00m \u001b[38;5;21;01mgrandiso\u001b[39;00m \u001b[38;5;28;01mimport\u001b[39;00m find_motifs\n\u001b[1;32m      4\u001b[0m \u001b[38;5;28;01mimport\u001b[39;00m \u001b[38;5;21;01mtime\u001b[39;00m\n",
      "\u001b[0;31mModuleNotFoundError\u001b[0m: No module named 'grandiso'"
     ]
    }
   ],
   "source": [
    "import networkx as nx\n",
    "import pandas as pd\n",
    "from grandiso import find_motifs\n",
    "import time"
   ]
  },
  {
   "cell_type": "code",
   "execution_count": null,
   "id": "38c12cf2",
   "metadata": {},
   "outputs": [],
   "source": [
    "def read_graph(path):\n",
    "    df = pd.read_csv(path)\n",
    "    G = nx.from_pandas_edgelist(df, source='id_1', target='id_2', create_using=nx.Graph())\n",
    "    \"\"\"\n",
    "    G = nx.from_pandas_edgelist(df, source='from', target='to', create_using=nx.Graph\n",
    "    Use this for the twitch list of edges since ha a different header than Facebook and GitHub\n",
    "    \"\"\"\n",
    "    return G\n"
   ]
  },
  {
   "cell_type": "markdown",
   "id": "affc594b",
   "metadata": {},
   "source": [
    "Graphlets"
   ]
  },
  {
   "cell_type": "code",
   "execution_count": null,
   "id": "086b4acf",
   "metadata": {},
   "outputs": [],
   "source": [
    "line = nx.Graph()\n",
    "line.add_edge(\"A\", \"B\")\n",
    "line.add_edge(\"B\", \"C\")\n",
    "line.add_edge(\"C\", \"D\")\n",
    "\n",
    "\n",
    "lambda_ = nx.Graph()\n",
    "lambda_.add_edge(\"A\", \"B\")\n",
    "lambda_.add_edge(\"B\", \"C\")\n",
    "lambda_.add_edge(\"B\", \"D\")\n",
    "\n",
    "\n",
    "cube = nx.Graph()\n",
    "cube.add_edge(\"A\", \"B\")\n",
    "cube.add_edge(\"B\", \"C\")\n",
    "cube.add_edge(\"C\", \"D\")\n",
    "cube.add_edge(\"D\", \"A\")\n",
    "\n",
    "\n",
    "y = nx.Graph()\n",
    "y.add_edge(\"A\", \"B\")\n",
    "y.add_edge(\"B\", \"C\")\n",
    "y.add_edge(\"A\", \"D\")\n",
    "y.add_edge(\"D\", \"B\")\n",
    "\n",
    "\n",
    "rhombus = nx.Graph()\n",
    "rhombus.add_edge(\"A\", \"B\")\n",
    "rhombus.add_edge(\"B\", \"C\")\n",
    "rhombus.add_edge(\"A\", \"D\")\n",
    "rhombus.add_edge(\"D\", \"C\")\n",
    "rhombus.add_edge(\"A\", \"C\")\n",
    "\n",
    "\n",
    "complete = nx.Graph()\n",
    "complete.add_edge(\"A\", \"B\")\n",
    "complete.add_edge(\"B\", \"C\")\n",
    "complete.add_edge(\"A\", \"D\")\n",
    "complete.add_edge(\"D\", \"B\")\n",
    "complete.add_edge(\"A\", \"C\")\n",
    "complete.add_edge(\"D\", \"C\")"
   ]
  },
  {
   "cell_type": "markdown",
   "id": "b31a5717",
   "metadata": {},
   "source": [
    "In graph paths insert the name of the Social network graph of interest and add the path in the file."
   ]
  },
  {
   "cell_type": "code",
   "execution_count": null,
   "id": "5dc7a595",
   "metadata": {},
   "outputs": [],
   "source": [
    "start = time.time()\n",
    "\n",
    "graph_paths = {'graph name': 'path to the list of edges'}\n",
    "\n",
    "\n",
    "Facebook = read_graph(graph_paths['graph name'])\n",
    "\n",
    "graphlet= #Name of the graphlet you want to count from the ones above\n",
    "\n",
    "results = find_motifs(graphlet, Git, count_only=True)\n",
    "print(results)\n",
    "\n",
    "end = time.time()\n",
    "print(end - start)"
   ]
  },
  {
   "cell_type": "code",
   "execution_count": null,
   "id": "1bbbaf10",
   "metadata": {},
   "outputs": [],
   "source": []
  }
 ],
 "metadata": {
  "kernelspec": {
   "display_name": "Python 3 (ipykernel)",
   "language": "python",
   "name": "python3"
  },
  "language_info": {
   "codemirror_mode": {
    "name": "ipython",
    "version": 3
   },
   "file_extension": ".py",
   "mimetype": "text/x-python",
   "name": "python",
   "nbconvert_exporter": "python",
   "pygments_lexer": "ipython3",
   "version": "3.9.12"
  }
 },
 "nbformat": 4,
 "nbformat_minor": 5
}
