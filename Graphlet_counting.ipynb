{
 "cells": [
  {
   "cell_type": "markdown",
   "id": "6e0abb6d",
   "metadata": {},
   "source": [
    "# Graphlet counting Algorithm"
   ]
  },
  {
   "cell_type": "markdown",
   "id": "014c8841",
   "metadata": {},
   "source": [
    "With this algorithm we are able to count the occurrences of a graphlet inside the Social Network Graphs.\n",
    "It outputs the counting and the time of the computation."
   ]
  },
  {
   "cell_type": "code",
   "execution_count": null,
   "id": "0a883fba",
   "metadata": {},
   "outputs": [],
   "source": [
    "import networkx as nx\n",
    "import pandas as pd\n",
    "from grandiso import find_motifs\n",
    "import time"
   ]
  },
  {
   "cell_type": "code",
   "execution_count": null,
   "id": "79e1cef4",
   "metadata": {},
   "outputs": [],
   "source": [
    "def read_graph(path):\n",
    "    df = pd.read_csv(path)\n",
    "    G = nx.from_pandas_edgelist(df, source='id_1', target='id_2', create_using=nx.Graph())\n",
    "    \"\"\"\n",
    "    G = nx.from_pandas_edgelist(df, source='from', target='to', create_using=nx.Graph\n",
    "    Use this for the twitch list of edges since ha a different header than Facebook and GitHub\n",
    "    \"\"\"\n",
    "    return G\n"
   ]
  },
  {
   "cell_type": "markdown",
   "id": "c7f3c017",
   "metadata": {},
   "source": [
    "List of all graphlets with 4 nodes"
   ]
  },
  {
   "cell_type": "code",
   "execution_count": null,
   "id": "42abadfb",
   "metadata": {},
   "outputs": [],
   "source": [
    "line = nx.Graph()\n",
    "line.add_edge(\"A\", \"B\")\n",
    "line.add_edge(\"B\", \"C\")\n",
    "line.add_edge(\"C\", \"D\")\n",
    "\n",
    "\n",
    "lambda_ = nx.Graph()\n",
    "lambda_.add_edge(\"A\", \"B\")\n",
    "lambda_.add_edge(\"B\", \"C\")\n",
    "lambda_.add_edge(\"B\", \"D\")\n",
    "\n",
    "\n",
    "cube = nx.Graph()\n",
    "cube.add_edge(\"A\", \"B\")\n",
    "cube.add_edge(\"B\", \"C\")\n",
    "cube.add_edge(\"C\", \"D\")\n",
    "cube.add_edge(\"D\", \"A\")\n",
    "\n",
    "\n",
    "y = nx.Graph()\n",
    "y.add_edge(\"A\", \"B\")\n",
    "y.add_edge(\"B\", \"C\")\n",
    "y.add_edge(\"A\", \"D\")\n",
    "y.add_edge(\"D\", \"B\")\n",
    "\n",
    "\n",
    "rhombus = nx.Graph()\n",
    "rhombus.add_edge(\"A\", \"B\")\n",
    "rhombus.add_edge(\"B\", \"C\")\n",
    "rhombus.add_edge(\"A\", \"D\")\n",
    "rhombus.add_edge(\"D\", \"C\")\n",
    "rhombus.add_edge(\"A\", \"C\")\n",
    "\n",
    "\n",
    "complete = nx.Graph()\n",
    "complete.add_edge(\"A\", \"B\")\n",
    "complete.add_edge(\"B\", \"C\")\n",
    "complete.add_edge(\"A\", \"D\")\n",
    "complete.add_edge(\"D\", \"B\")\n",
    "complete.add_edge(\"A\", \"C\")\n",
    "complete.add_edge(\"D\", \"C\")"
   ]
  },
  {
   "cell_type": "markdown",
   "id": "4908f5bc",
   "metadata": {},
   "source": [
    "In graph paths insert the name of the Social network graph of interest and add the path in the file."
   ]
  },
  {
   "cell_type": "code",
   "execution_count": null,
   "id": "8cf5625e",
   "metadata": {},
   "outputs": [],
   "source": [
    "start = time.time()\n",
    "\n",
    "graph_paths = {'graph name': 'path to the list of edges'}\n",
    "\n",
    "\n",
    "Facebook = read_graph(graph_paths['graph name'])\n",
    "\n",
    "graphlet= #Name of the graphlet you want to count from the ones above\n",
    "\n",
    "results = find_motifs(graphlet, Git, count_only=True)\n",
    "print(results)\n",
    "\n",
    "end = time.time()\n",
    "print(end - start)"
   ]
  }
 ],
 "metadata": {
  "kernelspec": {
   "display_name": "Python 3 (ipykernel)",
   "language": "python",
   "name": "python3"
  },
  "language_info": {
   "codemirror_mode": {
    "name": "ipython",
    "version": 3
   },
   "file_extension": ".py",
   "mimetype": "text/x-python",
   "name": "python",
   "nbconvert_exporter": "python",
   "pygments_lexer": "ipython3",
   "version": "3.9.12"
  }
 },
 "nbformat": 4,
 "nbformat_minor": 5
}
