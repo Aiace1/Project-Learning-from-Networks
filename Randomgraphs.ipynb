{
 "cells": [
  {
   "cell_type": "markdown",
   "id": "bb95a2be",
   "metadata": {},
   "source": [
    "# Random Graph analytics Algorithm"
   ]
  },
  {
   "cell_type": "markdown",
   "id": "a324ee64",
   "metadata": {},
   "source": [
    "This algorithm takes in input the number of node, number of edges and the number of Erdos-Renyi random graphs we would like to generate and simulate.\n",
    "It require to have a file txt with name: \"Results_random_graphs.txt\" in the same folder of the program. This is because it will output for all random graph its clustering coefficient and the top 10 nodes with higher degree centrality.\n",
    "At the end of the file txt it will print the average and the standard deviation of all graphs of the clustering coefficient and the top 10 nodes with highest degree centrality."
   ]
  },
  {
   "cell_type": "code",
   "execution_count": null,
   "id": "9bc47567",
   "metadata": {},
   "outputs": [],
   "source": [
    "import networkx as nx\n",
    "import math\n",
    "import numpy as np\n",
    "import pandas as pd\n",
    "import statistics"
   ]
  },
  {
   "cell_type": "code",
   "execution_count": null,
   "id": "3a75c211",
   "metadata": {},
   "outputs": [],
   "source": [
    "n=int(input(\"Number of Nodes for the random graph: \"))\n",
    "e=int(input(\"Number of Edges for the random graph: \"))\n",
    "\n",
    "n_RG=int(input(\"How many Random Graphs do you want to generate? \"))"
   ]
  },
  {
   "cell_type": "code",
   "execution_count": null,
   "id": "534c301f",
   "metadata": {},
   "outputs": [],
   "source": [
    "CC_list=[]\n",
    "degreec_dict={}\n",
    "degree_list=[]\n",
    "\n",
    "\n",
    "f = open(\"Results_random_graphs.txt\", \"a\")\n",
    "\n",
    "\n",
    "\n",
    "f.write(\"Number of random graph generated: \")\n",
    "f.write(str(n_RG))\n",
    "f.write(\"\\n\\n\\n\")\n",
    "\n",
    "binomial_coeff=((n*(n-1)*(n-2))/2)\n",
    "for j in range(n_RG):\n",
    "\tG=nx.gnm_random_graph(n,e)\n",
    "\ttriangl_dict=nx.triangles(G)\n",
    "\tCC_list.append((sum(triangl_dict.values()))/binomial_coeff)\n",
    "\tCC=sum(triangl_dict.values())/binomial_coeff\n",
    "\tf.write(\"Random graph \")\n",
    "\tf.write(str(j+1))\n",
    "\tf.write(\":\\n\\n\")\n",
    "\n",
    "\tf.write(\"Clustering coeficient:              \")\n",
    "\tf.write(str(CC))\n",
    "\tf.write(\"\\n\\n\\n\")\n",
    "\n",
    "\tG_degrees=nx.degree_centrality(G)\n",
    "\ttop_10_degree=sorted(G_degrees.items(), key=lambda x: x[1], reverse=True)[:10]\n",
    "\ti=1\n",
    "\tfor node, degree in top_10_degree:\n",
    "\t\tif i in degreec_dict:\n",
    "\t\t\tdegreec_dict[i].append(degree)\n",
    "\t\telse:\n",
    "\t\t\tdegreec_dict[i]=[]\n",
    "\t\t\tdegreec_dict[i].append(degree)\n",
    "\t\tf.write(str(node))\n",
    "\t\tf.write(\":       \")\n",
    "\t\tf.write(str(degree))\n",
    "\t\tf.write(\"\\n\")\n",
    "\t\ti+=1\n",
    "\tf.write(\"\\n\\n\\n\")\n",
    "\n",
    "sumCC=0\n",
    "for CC in CC_list:\n",
    "\tsumCC+=CC\n",
    "meanCC=sumCC/n_RG\n",
    "\n",
    "f.write(\"Mean of the Clustering Coefficient of all the random graph:     \")\n",
    "f.write(str(meanCC))\n",
    "f.write(str(\"\\nStandard deviation for the clustering Coefficient: \"))\n",
    "f.write(str(statistics.stdev(CC_list, meanCC)))\n",
    "\n",
    "f.write(\"\\n\\n Mean of the degree centrality per same rank:   \\n\")\n",
    "for i in range(1,11):\n",
    "\tf.write(str(i))\n",
    "\tf.write(\":       \")\n",
    "\tf.write(str(sum(degreec_dict[i])/n_RG))\n",
    "\tf.write(\"\\n\")\n",
    "\t#i+=1\n",
    "\n",
    "\n",
    "f.write(\"\\nStandard deviation of the degree centrality per rank: \\n\")\n",
    "for i in range(1,11):\n",
    "\tf.write(str(i))\n",
    "\tf.write(\":       \")\n",
    "\tf.write(str(statistics.stdev(degreec_dict[i])))\n",
    "\tf.write(\"\\n\")\n",
    "\n",
    "\n",
    "\n",
    "\n",
    "f.write(\"\\n\\n------------------------------------------------------------------------------------------------\")\n",
    "f.close()"
   ]
  }
 ],
 "metadata": {
  "kernelspec": {
   "display_name": "Python 3 (ipykernel)",
   "language": "python",
   "name": "python3"
  },
  "language_info": {
   "codemirror_mode": {
    "name": "ipython",
    "version": 3
   },
   "file_extension": ".py",
   "mimetype": "text/x-python",
   "name": "python",
   "nbconvert_exporter": "python",
   "pygments_lexer": "ipython3",
   "version": "3.9.12"
  }
 },
 "nbformat": 4,
 "nbformat_minor": 5
}
